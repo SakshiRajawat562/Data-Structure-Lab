{
 "cells": [
  {
   "cell_type": "code",
   "execution_count": 7,
   "id": "5007c28d-a027-4314-b79f-b428a539d320",
   "metadata": {},
   "outputs": [
    {
     "name": "stdout",
     "output_type": "stream",
     "text": [
      "\n",
      "Inventory Stock Manager\n",
      "1. Insert New Product\n",
      "2. Display Inventory\n",
      "3. Exit\n"
     ]
    },
    {
     "name": "stdin",
     "output_type": "stream",
     "text": [
      "Enter your choice (1-3):  1\n",
      "Enter SKU:  P101\n",
      "Enter Product Name:  Pencil\n",
      "Enter Quantity:  50\n"
     ]
    },
    {
     "name": "stdout",
     "output_type": "stream",
     "text": [
      "Product inserted successfully.\n",
      "\n",
      "Inventory Stock Manager\n",
      "1. Insert New Product\n",
      "2. Display Inventory\n",
      "3. Exit\n"
     ]
    },
    {
     "name": "stdin",
     "output_type": "stream",
     "text": [
      "Enter your choice (1-3):  1\n",
      "Enter SKU:  P101\n"
     ]
    },
    {
     "name": "stdout",
     "output_type": "stream",
     "text": [
      "Product with this SKU already exists!\n",
      "\n",
      "Inventory Stock Manager\n",
      "1. Insert New Product\n",
      "2. Display Inventory\n",
      "3. Exit\n"
     ]
    },
    {
     "name": "stdin",
     "output_type": "stream",
     "text": [
      "Enter your choice (1-3):  1\n",
      "Enter SKU:  P102\n",
      "Enter Product Name:  Pen\n",
      "Enter Quantity:  20\n"
     ]
    },
    {
     "name": "stdout",
     "output_type": "stream",
     "text": [
      "Product inserted successfully.\n",
      "\n",
      "Inventory Stock Manager\n",
      "1. Insert New Product\n",
      "2. Display Inventory\n",
      "3. Exit\n"
     ]
    },
    {
     "name": "stdin",
     "output_type": "stream",
     "text": [
      "Enter your choice (1-3):  3\n"
     ]
    },
    {
     "name": "stdout",
     "output_type": "stream",
     "text": [
      "Exiting Inventory Manager.\n"
     ]
    }
   ],
   "source": [
    "# Inventory list to store product records \n",
    "inventory = [] \n",
    " \n",
    "def insert_product():\n",
    "    try:\n",
    "        count = int(input(\"How many products do you want to add? \"))\n",
    "    except ValueError:\n",
    "        print(\"Invalid input. Please enter a number.\")\n",
    "        return\n",
    "    \n",
    "    for i in range(count):\n",
    "        print(f\"\\n--- Product {i+1} ---\")\n",
    "        sku = input(\"Enter SKU: \")\n",
    "\n",
    "        # Check for duplicate SKU\n",
    "        duplicate = False\n",
    "        for item in inventory:\n",
    "            if item['sku'] == sku:\n",
    "                print(\"Product with this SKU already exists! Skipping...\")\n",
    "                duplicate = True\n",
    "     \n",
    "    name = input(\"Enter Product Name: \") \n",
    "     \n",
    "    try: \n",
    "        quantity = int(input(\"Enter Quantity: \")) \n",
    "    except ValueError: \n",
    "        print(\"Invalid input. Quantity must be a number.\") \n",
    "        return \n",
    "     \n",
    "    # Create product dictionary and add to inventory \n",
    "    product = {'sku': sku, 'name': name, 'quantity': quantity} \n",
    "    inventory.append(product) \n",
    "    print(\"Product inserted successfully.\") \n",
    " \n",
    "# Function to display inventory \n",
    "def display_inventory(): \n",
    "    if not inventory: \n",
    "        print(\"Inventory is empty.\") \n",
    "        return \n",
    " \n",
    "    print(\"\\nCurrent Inventory:\") \n",
    "    print(\"SKU\\t\\tProduct Name\\t\\tQuantity\") \n",
    "    print(\"-----------------------------------------------\") \n",
    "    for item in inventory: \n",
    "        print(f\"{item['sku']}\\t\\t{item['name']}\\t\\t{item['quantity']}\") \n",
    "    print() \n",
    " \n",
    "# Main program loop \n",
    "def main(): \n",
    "    while True: \n",
    "        print(\"\\nInventory Stock Manager\") \n",
    "        print(\"1. Insert New Product\") \n",
    "        print(\"2. Display Inventory\") \n",
    "        print(\"3. Exit\") \n",
    " \n",
    "        choice = input(\"Enter your choice (1-3): \") \n",
    " \n",
    "        if choice == '1': \n",
    "            insert_product() \n",
    "        elif choice == '2': \n",
    "            display_inventory() \n",
    "        elif choice == '3': \n",
    "            print(\"Exiting Inventory Manager.\") \n",
    "            break \n",
    "        else: \n",
    "            print(\"Invalid choice. Please select from 1 to 3.\") \n",
    " \n",
    "# Start the program \n",
    "main() \n",
    " \n"
   ]
  },
  {
   "cell_type": "code",
   "execution_count": 9,
   "id": "c1052c3e-14ed-4e6b-b8e5-7679ea83a34f",
   "metadata": {},
   "outputs": [
    {
     "name": "stdout",
     "output_type": "stream",
     "text": [
      "\n",
      "Inventory Stock Manager\n",
      "1. Insert New Product\n",
      "2. Display Inventory\n",
      "3. Exit\n"
     ]
    },
    {
     "name": "stdin",
     "output_type": "stream",
     "text": [
      "Enter your choice (1-3):  1\n",
      "Enter SKU:  P101\n",
      "Enter Product Name:  Pencil\n",
      "Enter Quantity:  50\n"
     ]
    },
    {
     "name": "stdout",
     "output_type": "stream",
     "text": [
      "Product inserted successfully.\n",
      "\n",
      "Inventory Stock Manager\n",
      "1. Insert New Product\n",
      "2. Display Inventory\n",
      "3. Exit\n"
     ]
    },
    {
     "name": "stdin",
     "output_type": "stream",
     "text": [
      "Enter your choice (1-3):  1\n",
      "Enter SKU:  P101\n"
     ]
    },
    {
     "name": "stdout",
     "output_type": "stream",
     "text": [
      "Product with this SKU already exists!\n",
      "\n",
      "Inventory Stock Manager\n",
      "1. Insert New Product\n",
      "2. Display Inventory\n",
      "3. Exit\n"
     ]
    },
    {
     "name": "stdin",
     "output_type": "stream",
     "text": [
      "Enter your choice (1-3):  1\n",
      "Enter SKU:  P104\n",
      "Enter Product Name:  Marker\n",
      "Enter Quantity:  ten\n"
     ]
    },
    {
     "name": "stdout",
     "output_type": "stream",
     "text": [
      "Invalid input. Quantity must be a number.\n",
      "\n",
      "Inventory Stock Manager\n",
      "1. Insert New Product\n",
      "2. Display Inventory\n",
      "3. Exit\n"
     ]
    },
    {
     "name": "stdin",
     "output_type": "stream",
     "text": [
      "Enter your choice (1-3):  3\n"
     ]
    },
    {
     "name": "stdout",
     "output_type": "stream",
     "text": [
      "Exiting Inventory Manager.\n"
     ]
    }
   ],
   "source": [
    "# Inventory list to store product records \n",
    "inventory = [] \n",
    " \n",
    "# Function to insert a new product \n",
    "def insert_product(): \n",
    "    sku = input(\"Enter SKU: \") \n",
    "     \n",
    "    # Check for duplicate SKU \n",
    "    for item in inventory: \n",
    "        if item['sku'] == sku: \n",
    "            print(\"Product with this SKU already exists!\") \n",
    "            return \n",
    "     \n",
    "    name = input(\"Enter Product Name: \") \n",
    "     \n",
    "    try: \n",
    "        quantity = int(input(\"Enter Quantity: \")) \n",
    "    except ValueError: \n",
    "        print(\"Invalid input. Quantity must be a number.\") \n",
    "        return \n",
    "     \n",
    "    # Create product dictionary and add to inventory \n",
    "    product = {'sku': sku, 'name': name, 'quantity': quantity} \n",
    "    inventory.append(product) \n",
    "    print(\"Product inserted successfully.\") \n",
    " \n",
    "# Function to display inventory \n",
    "def display_inventory(): \n",
    "    if not inventory: \n",
    "        print(\"Inventory is empty.\") \n",
    "        return \n",
    " \n",
    "    print(\"\\nCurrent Inventory:\") \n",
    "    print(\"SKU\\t\\tProduct Name\\t\\tQuantity\") \n",
    "    print(\"-----------------------------------------------\") \n",
    "    for item in inventory: \n",
    "        print(f\"{item['sku']}\\t\\t{item['name']}\\t\\t{item['quantity']}\") \n",
    "    print() \n",
    " \n",
    "# Main program loop \n",
    "def main(): \n",
    "    while True: \n",
    "        print(\"\\nInventory Stock Manager\") \n",
    "        print(\"1. Insert New Product\") \n",
    "        print(\"2. Display Inventory\") \n",
    "        print(\"3. Exit\") \n",
    " \n",
    "        choice = input(\"Enter your choice (1-3): \") \n",
    " \n",
    "        if choice == '1': \n",
    "            insert_product() \n",
    "        elif choice == '2': \n",
    "            display_inventory() \n",
    "        elif choice == '3': \n",
    "            print(\"Exiting Inventory Manager.\") \n",
    "            break \n",
    "        else: \n",
    "            print(\"Invalid choice. Please select from 1 to 3.\") \n",
    " \n",
    "# Start the program \n",
    "main() \n",
    " \n"
   ]
  },
  {
   "cell_type": "code",
   "execution_count": null,
   "id": "ff33f585-fb81-4c6d-990e-9e62d3ca6860",
   "metadata": {},
   "outputs": [
    {
     "name": "stdout",
     "output_type": "stream",
     "text": [
      "\n",
      "Inventory Stock Manager\n",
      "1. Insert New Product\n",
      "2. Display Inventory\n",
      "3. Exit\n"
     ]
    },
    {
     "name": "stdin",
     "output_type": "stream",
     "text": [
      "Enter your choice (1-3):  1\n",
      "How many products do you want to add?  1\n"
     ]
    },
    {
     "name": "stdout",
     "output_type": "stream",
     "text": [
      "\n",
      "--- Product 1 ---\n"
     ]
    },
    {
     "name": "stdin",
     "output_type": "stream",
     "text": [
      "Enter SKU:  P101\n",
      "Enter Product Name:  Pencil\n",
      "Enter Quantity:  50\n"
     ]
    },
    {
     "name": "stdout",
     "output_type": "stream",
     "text": [
      "Product inserted successfully.\n",
      "\n",
      "Inventory Stock Manager\n",
      "1. Insert New Product\n",
      "2. Display Inventory\n",
      "3. Exit\n"
     ]
    },
    {
     "name": "stdin",
     "output_type": "stream",
     "text": [
      "Enter your choice (1-3):  1\n",
      "How many products do you want to add?  1\n"
     ]
    },
    {
     "name": "stdout",
     "output_type": "stream",
     "text": [
      "\n",
      "--- Product 1 ---\n"
     ]
    },
    {
     "name": "stdin",
     "output_type": "stream",
     "text": [
      "Enter SKU:  P101\n"
     ]
    },
    {
     "name": "stdout",
     "output_type": "stream",
     "text": [
      "Product with this SKU already exists! Skipping...\n",
      "\n",
      "Inventory Stock Manager\n",
      "1. Insert New Product\n",
      "2. Display Inventory\n",
      "3. Exit\n"
     ]
    },
    {
     "name": "stdin",
     "output_type": "stream",
     "text": [
      "Enter your choice (1-3):  2\n"
     ]
    },
    {
     "name": "stdout",
     "output_type": "stream",
     "text": [
      "\n",
      "Current Inventory:\n",
      "SKU\t\tProduct Name\t\tQuantity\n",
      "-----------------------------------------------\n",
      "P101\t\tPencil\t\t50\n",
      "\n",
      "\n",
      "Inventory Stock Manager\n",
      "1. Insert New Product\n",
      "2. Display Inventory\n",
      "3. Exit\n"
     ]
    },
    {
     "name": "stdin",
     "output_type": "stream",
     "text": [
      "Enter your choice (1-3):  1\n",
      "How many products do you want to add?  2\n"
     ]
    },
    {
     "name": "stdout",
     "output_type": "stream",
     "text": [
      "\n",
      "--- Product 1 ---\n"
     ]
    },
    {
     "name": "stdin",
     "output_type": "stream",
     "text": [
      "Enter SKU:  P102\n",
      "Enter Product Name:  Pen\n",
      "Enter Quantity:  20\n"
     ]
    },
    {
     "name": "stdout",
     "output_type": "stream",
     "text": [
      "Product inserted successfully.\n",
      "\n",
      "--- Product 2 ---\n"
     ]
    },
    {
     "name": "stdin",
     "output_type": "stream",
     "text": [
      "Enter SKU:  p103\n",
      "Enter Product Name:  Eraser\n",
      "Enter Quantity:  10\n"
     ]
    },
    {
     "name": "stdout",
     "output_type": "stream",
     "text": [
      "Product inserted successfully.\n",
      "\n",
      "Inventory Stock Manager\n",
      "1. Insert New Product\n",
      "2. Display Inventory\n",
      "3. Exit\n"
     ]
    },
    {
     "name": "stdin",
     "output_type": "stream",
     "text": [
      "Enter your choice (1-3):  1\n",
      "How many products do you want to add?  1\n"
     ]
    },
    {
     "name": "stdout",
     "output_type": "stream",
     "text": [
      "\n",
      "--- Product 1 ---\n"
     ]
    },
    {
     "name": "stdin",
     "output_type": "stream",
     "text": [
      "Enter SKU:  P104\n",
      "Enter Product Name:  Marker\n",
      "Enter Quantity:  ten\n"
     ]
    },
    {
     "name": "stdout",
     "output_type": "stream",
     "text": [
      "Invalid input. Quantity must be a number. Skipping this product...\n",
      "\n",
      "Inventory Stock Manager\n",
      "1. Insert New Product\n",
      "2. Display Inventory\n",
      "3. Exit\n"
     ]
    },
    {
     "name": "stdin",
     "output_type": "stream",
     "text": [
      "Enter your choice (1-3):  1\n",
      "How many products do you want to add?  1\n"
     ]
    },
    {
     "name": "stdout",
     "output_type": "stream",
     "text": [
      "\n",
      "--- Product 1 ---\n"
     ]
    },
    {
     "name": "stdin",
     "output_type": "stream",
     "text": [
      "Enter SKU:  P105\n",
      "Enter Product Name:  \n",
      "Enter Quantity:  5\n"
     ]
    },
    {
     "name": "stdout",
     "output_type": "stream",
     "text": [
      "Product inserted successfully.\n",
      "\n",
      "Inventory Stock Manager\n",
      "1. Insert New Product\n",
      "2. Display Inventory\n",
      "3. Exit\n"
     ]
    }
   ],
   "source": [
    "# Inventory list to store product records \n",
    "inventory = [] \n",
    " \n",
    "# Function to insert new products \n",
    "def insert_product():\n",
    "    try:\n",
    "        count = int(input(\"How many products do you want to add? \"))\n",
    "    except ValueError:\n",
    "        print(\"Invalid input. Please enter a number.\")\n",
    "        return\n",
    "    \n",
    "    for i in range(count):\n",
    "        print(f\"\\n--- Product {i+1} ---\")\n",
    "        sku = input(\"Enter SKU: \")\n",
    "\n",
    "        # Check for duplicate SKU\n",
    "        duplicate = False\n",
    "        for item in inventory:\n",
    "            if item['sku'] == sku:\n",
    "                print(\"Product with this SKU already exists! Skipping...\")\n",
    "                duplicate = True\n",
    "                break\n",
    "\n",
    "        if duplicate:\n",
    "            continue  # skip to next product\n",
    "\n",
    "        name = input(\"Enter Product Name: \")\n",
    "\n",
    "        try:\n",
    "            quantity = int(input(\"Enter Quantity: \"))\n",
    "        except ValueError:\n",
    "            print(\"Invalid input. Quantity must be a number. Skipping this product...\")\n",
    "            continue\n",
    "\n",
    "        # Create product dictionary and add to inventory \n",
    "        product = {'sku': sku, 'name': name, 'quantity': quantity}\n",
    "        inventory.append(product)\n",
    "        print(\"Product inserted successfully.\") \n",
    " \n",
    "# Function to display inventory \n",
    "def display_inventory(): \n",
    "    if not inventory: \n",
    "        print(\"Inventory is empty.\") \n",
    "        return \n",
    " \n",
    "    print(\"\\nCurrent Inventory:\") \n",
    "    print(\"SKU\\t\\tProduct Name\\t\\tQuantity\") \n",
    "    print(\"-----------------------------------------------\") \n",
    "    for item in inventory: \n",
    "        print(f\"{item['sku']}\\t\\t{item['name']}\\t\\t{item['quantity']}\") \n",
    "    print() \n",
    " \n",
    "# Main program loop \n",
    "def main(): \n",
    "    while True: \n",
    "        print(\"\\nInventory Stock Manager\") \n",
    "        print(\"1. Insert New Product\") \n",
    "        print(\"2. Display Inventory\") \n",
    "        print(\"3. Exit\") \n",
    " \n",
    "        choice = input(\"Enter your choice (1-3): \") \n",
    " \n",
    "        if choice == '1': \n",
    "            insert_product() \n",
    "        elif choice == '2': \n",
    "            display_inventory() \n",
    "        elif choice == '3': \n",
    "            print(\"Exiting Inventory Manager.\") \n",
    "            break \n",
    "        else: \n",
    "            print(\"Invalid choice. Please select from 1 to 3.\") \n",
    " \n",
    "# Start the program \n",
    "main()"
   ]
  },
  {
   "cell_type": "code",
   "execution_count": 21,
   "id": "a30cfd76-9f38-4711-9cab-65cce2ab20a4",
   "metadata": {},
   "outputs": [],
   "source": [
    "def process_sale(inventory, sku, qty_sold): \n",
    " \n",
    "    updated_inventory = [] # Creates a new empty list called updated_inventory. \n",
    "    sku_found = False \n",
    "     \n",
    "    for item in inventory: \n",
    "        current_sku, current_qty = item \n",
    "        if current_sku == sku: \n",
    "            sku_found = True \n",
    "            if current_qty >= qty_sold: \n",
    "                updated_inventory.append((current_sku, current_qty - qty_sold)) \n",
    "#Append the updated tuple (SKU, new_qty) to updated_inventory. \n",
    "                print(f\"Sale processed: {qty_sold} units of SKU {sku}.\") \n",
    "            else: \n",
    "                updated_inventory.append((current_sku, current_qty)) \n",
    "                print(f\"Insufficient stock for SKU {sku}. Available: {current_qty}\") \n",
    "        else: \n",
    "            updated_inventory.append(item) \n",
    "     \n",
    "    if not sku_found: \n",
    "        print(f\"SKU {sku} not found in inventory.\") \n",
    "     \n",
    "    return updated_inventory \n",
    " \n",
    " \n",
    "def identify_zero_stock(inventory): \n",
    "    \n",
    "    zero_stock_list = [sku for sku, qty in inventory if qty == 0] \n",
    "    if zero_stock_list: \n",
    "        print(f\"Zero stock SKUs: {zero_stock_list}\") \n",
    "    else: \n",
    "        print(\"No zero stock items found.\") \n",
    "    return zero_stock_list \n",
    " \n",
    " "
   ]
  },
  {
   "cell_type": "code",
   "execution_count": 22,
   "id": "32ff04e1-6d61-40b4-bdcb-1d3b761f804a",
   "metadata": {},
   "outputs": [
    {
     "name": "stdout",
     "output_type": "stream",
     "text": [
      "Sale processed: 30 units of SKU 101.\n",
      "Updated Inventory: [(101, 20)]\n"
     ]
    }
   ],
   "source": [
    "# Test Case 1 – Normal Sale\n",
    "inventory = [(101, 50)]\n",
    "sku = 101\n",
    "qty_sold = 30\n",
    "\n",
    "updated_inventory = process_sale(inventory, sku, qty_sold)\n",
    "\n",
    "print(\"Updated Inventory:\", updated_inventory)"
   ]
  },
  {
   "cell_type": "code",
   "execution_count": 23,
   "id": "4353e6ab-eafb-4cbd-8beb-7b22e85eaf97",
   "metadata": {},
   "outputs": [
    {
     "name": "stdout",
     "output_type": "stream",
     "text": [
      "Insufficient stock for SKU 102. Available: 20\n",
      "Updated Inventory: [(102, 20)]\n"
     ]
    }
   ],
   "source": [
    "# Test Case 2 – Insufficient Stock\n",
    "inventory = [(102, 20)]\n",
    "sku = 102\n",
    "qty_sold = 25\n",
    "\n",
    "updated_inventory = process_sale(inventory, sku, qty_sold)\n",
    "\n",
    "print(\"Updated Inventory:\", updated_inventory)"
   ]
  },
  {
   "cell_type": "code",
   "execution_count": 24,
   "id": "1462fde5-9c77-4914-91cc-cad94fc08c18",
   "metadata": {},
   "outputs": [
    {
     "name": "stdout",
     "output_type": "stream",
     "text": [
      "SKU 104 not found in inventory.\n",
      "Updated Inventory: [(101, 50)]\n"
     ]
    }
   ],
   "source": [
    "# Test Case 3 – SKU Not Found\n",
    "inventory = [(101, 50)]\n",
    "sku = 104\n",
    "qty_sold = 10\n",
    "\n",
    "updated_inventory = process_sale(inventory, sku, qty_sold)\n",
    "\n",
    "print(\"Updated Inventory:\", updated_inventory)"
   ]
  },
  {
   "cell_type": "code",
   "execution_count": 25,
   "id": "dfd5db8e-5982-4954-8ea9-2cf14098ced6",
   "metadata": {},
   "outputs": [
    {
     "name": "stdout",
     "output_type": "stream",
     "text": [
      "Zero stock SKUs: [101, 103]\n",
      "Zero Stock SKUs List: [101, 103]\n"
     ]
    }
   ],
   "source": [
    "# Test Case 4 – Zero Stock Detection\n",
    "inventory = [(101, 0), (102, 5), (103, 0)]\n",
    "\n",
    "zero_stock_skus = identify_zero_stock(inventory)\n",
    "\n",
    "print(\"Zero Stock SKUs List:\", zero_stock_skus)"
   ]
  },
  {
   "cell_type": "code",
   "execution_count": 26,
   "id": "859d38a2-a120-4750-b026-51453ae77aee",
   "metadata": {},
   "outputs": [
    {
     "name": "stdout",
     "output_type": "stream",
     "text": [
      "No zero stock items found.\n",
      "Zero Stock SKUs List: []\n"
     ]
    }
   ],
   "source": [
    "# Test Case 5 – No Zero Stock\n",
    "inventory = [(101, 10), (102, 5)]\n",
    "\n",
    "zero_stock_skus = identify_zero_stock(inventory)\n",
    "\n",
    "print(\"Zero Stock SKUs List:\", zero_stock_skus)"
   ]
  },
  {
   "cell_type": "code",
   "execution_count": 27,
   "id": "713100d3-f400-46c0-89e7-59f0ad3d203b",
   "metadata": {},
   "outputs": [
    {
     "name": "stdout",
     "output_type": "stream",
     "text": [
      "Sale processed: 10 units of SKU 101.\n",
      "Updated Inventory: [(101, 0)]\n"
     ]
    }
   ],
   "source": [
    "# Test Case 6 – Sale Reducing to Zero\n",
    "inventory = [(101, 10)]\n",
    "sku = 101\n",
    "qty_sold = 10\n",
    "\n",
    "updated_inventory = process_sale(inventory, sku, qty_sold)\n",
    "\n",
    "print(\"Updated Inventory:\", updated_inventory)"
   ]
  },
  {
   "cell_type": "code",
   "execution_count": null,
   "id": "9aabb4e6-5bde-4d60-8e38-0f79f3d57cc5",
   "metadata": {},
   "outputs": [],
   "source": []
  }
 ],
 "metadata": {
  "kernelspec": {
   "display_name": "Python [conda env:base] *",
   "language": "python",
   "name": "conda-base-py"
  },
  "language_info": {
   "codemirror_mode": {
    "name": "ipython",
    "version": 3
   },
   "file_extension": ".py",
   "mimetype": "text/x-python",
   "name": "python",
   "nbconvert_exporter": "python",
   "pygments_lexer": "ipython3",
   "version": "3.13.5"
  }
 },
 "nbformat": 4,
 "nbformat_minor": 5
}
